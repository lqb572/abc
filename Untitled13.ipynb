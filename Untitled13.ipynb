{
 "cells": [
  {
   "cell_type": "code",
   "execution_count": null,
   "metadata": {},
   "outputs": [],
   "source": [
    "from selenium.webdriver.common.by import By\n",
    "from bs4 import BeautifulSoup\n",
    "from selenium import webdriver \n",
    "import time \n",
    "import urllib.request\n",
    "import selenium\n",
    "import pandas as pd\n",
    "print('输入网址')\n",
    "url=input()\n",
    "print('输入爬的评论数')\n",
    "t=input()\n",
    "t=int(t)\n",
    "browser=webdriver.Chrome()\n",
    "time.sleep(2)\n",
    "browser.get(url)\n",
    "time.sleep(2)\n",
    "browser.find_element_by_id(\"sufei-dialog-close\").click()\n",
    "time.sleep(10)\n",
    "pages=[]\n",
    "f=0\n",
    "if browser.find_element_by_css_selector('#sn-bd > div > p.sn-back-home > a').text=='天猫首页':\n",
    "    browser.find_elements_by_css_selector(\"#J_TabBar > li:nth-child(2) > a\")[0].click()\n",
    "    for i in range(0,20):\n",
    "        if t==i+f*20:\n",
    "            break\n",
    "        page=[]\n",
    "        try:\n",
    "            page.append(browser.find_elements_by_css_selector('.rate-user-info')[i].text)\n",
    "            page.append(browser.find_elements_by_css_selector('.rate-sku')[i].text)\n",
    "            page.append(browser.find_elements_by_css_selector('.tm-rate-fulltxt')[i].text)\n",
    "            pages.append(page)\n",
    "        except:\n",
    "            browser.find_element_by_xpath('//*[@id=\"J_Reviews\"]/div/div[7]/div/a[3]').click()\n",
    "            i=0\n",
    "            f=f+1\n",
    "else:\n",
    "    browser.find_element_by_xpath('//*[@id=\"J_TabBar\"]/li[2]/a').click()\n",
    "    for i in range(0,t):\n",
    "        if t==i+f*20:\n",
    "            break\n",
    "        page=[]\n",
    "        try:\n",
    "            page.append(browser.find_elements_by_css_selector('.from-whom')[i].text.strip())\n",
    "            page.append(browser.find_elements_by_css_selector('.tb-r-info')[i].text.strip())\n",
    "            page.append(browser.find_elements_by_css_selector('.tb-rev-item')[0].select('.J_KgRate_ReviewContent')[i].text.strip())\n",
    "            pages.append(page)\n",
    "        except:\n",
    "            browser.find_element_by_xpath('//*[@id=\"reviews\"]/div/div/div/div/div/div[2]/div/ul/li[7]').click()\n",
    "            i=0\n",
    "            f=f+1\n",
    "df=pd.DataFrame(pages,columns=['用户名','商品样式','评论'])\n",
    "df.to_excel('商品数据.xlsx',encoding='utf-8')  \n"
   ]
  },
  {
   "cell_type": "code",
   "execution_count": null,
   "metadata": {},
   "outputs": [],
   "source": []
  }
 ],
 "metadata": {
  "kernelspec": {
   "display_name": "Python 3",
   "language": "python",
   "name": "python3"
  },
  "language_info": {
   "codemirror_mode": {
    "name": "ipython",
    "version": 3
   },
   "file_extension": ".py",
   "mimetype": "text/x-python",
   "name": "python",
   "nbconvert_exporter": "python",
   "pygments_lexer": "ipython3",
   "version": "3.7.0"
  }
 },
 "nbformat": 4,
 "nbformat_minor": 2
}
