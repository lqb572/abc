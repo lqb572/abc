{
 "cells": [
  {
   "cell_type": "code",
   "execution_count": 2,
   "metadata": {},
   "outputs": [
    {
     "name": "stdout",
     "output_type": "stream",
     "text": [
      "5050\n"
     ]
    }
   ],
   "source": [
    "sum = 0\n",
    "for i in range(1,101):\n",
    "    sum=sum+i\n",
    "print(sum)"
   ]
  },
  {
   "cell_type": "code",
   "execution_count": 4,
   "metadata": {},
   "outputs": [
    {
     "name": "stdout",
     "output_type": "stream",
     "text": [
      "2.937774848474907\n"
     ]
    }
   ],
   "source": [
    "sum=0\n",
    "for i in range(100):\n",
    "    if(i%2)==1:\n",
    "        sum=sum+1/i\n",
    "print(sum)"
   ]
  },
  {
   "cell_type": "code",
   "execution_count": 3,
   "metadata": {},
   "outputs": [
    {
     "name": "stdout",
     "output_type": "stream",
     "text": [
      "请输入一个字符串:QDwsK12\n",
      "您输入的字符串统计结果是: 7\n",
      "有3个大写字母\n",
      "有2个小写字母\n",
      "有2个其他字母\n"
     ]
    }
   ],
   "source": [
    "s = input(\"请输入一个字符串:\")\n",
    "a = 0\n",
    "b = 0\n",
    "c = 0\n",
    "for i in s:\n",
    "    if 'A' <= i <= 'Z':\n",
    "        a=a+1\n",
    "    elif 'a' <= i <= 'z':\n",
    "        b=b+1\n",
    "    else:\n",
    "        c=c+1\n",
    "print(\"您输入的字符串统计结果是:\",len(str(s)))\n",
    "print(f\"有{a}个大写字母\")\n",
    "print(f\"有{b}个小写字母\")\n",
    "print(f\"有{c}个其他字母\")"
   ]
  },
  {
   "cell_type": "code",
   "execution_count": 5,
   "metadata": {},
   "outputs": [
    {
     "name": "stdout",
     "output_type": "stream",
     "text": [
      "32.66026079864164\n"
     ]
    }
   ],
   "source": [
    "sum = 0\n",
    "a=2\n",
    "b=1\n",
    "for i in range(20):\n",
    "    sum = sum + a/b\n",
    "    a = a + b\n",
    "    b = a - b\n",
    "print(sum)"
   ]
  },
  {
   "cell_type": "code",
   "execution_count": null,
   "metadata": {},
   "outputs": [
    {
     "name": "stdout",
     "output_type": "stream",
     "text": [
      "输入成绩:667\n"
     ]
    }
   ],
   "source": [
    "total = 0\n",
    "q = 1\n",
    "score = input(\"输入成绩:\")\n",
    "while score != \"stop\":\n",
    "    q += 1\n",
    "    total = total + int(score)\n",
    "avg = total / q\n",
    "print(avg)"
   ]
  },
  {
   "cell_type": "code",
   "execution_count": 2,
   "metadata": {},
   "outputs": [
    {
     "name": "stdout",
     "output_type": "stream",
     "text": [
      "第1个成绩: 99\n",
      "第2个成绩: 99\n",
      "第3个成绩: 99\n",
      "第4个成绩: 99\n",
      "第5个成绩: 99\n",
      "平均成绩: 99.0\n"
     ]
    }
   ],
   "source": [
    "s=0\n",
    "i=1\n",
    "while i<6:\n",
    "    m=input(\"第\"+str(i)+\"个成绩: \")\n",
    "    m=float(m)\n",
    "    if m<0 or m>100:\n",
    "        print(\"数据不合理，请重新输入:\")\n",
    "    s=s+m\n",
    "    i=i+1\n",
    "print(\"平均成绩:\",s/(i-1))"
   ]
  },
  {
   "cell_type": "code",
   "execution_count": 3,
   "metadata": {},
   "outputs": [
    {
     "name": "stdout",
     "output_type": "stream",
     "text": [
      "Enter p: 3\n",
      "Enter q: 6\n",
      "Enter n: 3\n",
      "3/6=0.500000\n",
      "3/6=0.5\n"
     ]
    }
   ],
   "source": [
    "p = 0\n",
    "while p <= 0:\n",
    "    p = input(\"Enter p: \")\n",
    "    p = int(p)\n",
    "q = 0\n",
    "while q <= 0:\n",
    "    q = input(\"Enter q: \")\n",
    "    q = int(q)\n",
    "n = 0\n",
    "while n <= 0:\n",
    "    n = input(\"Enter n: \")\n",
    "    n = int(n)\n",
    "s = str(p // q)\n",
    "r = p % q\n",
    "if r != 0:\n",
    "    s = s+\".\"\n",
    "i = 0\n",
    "while r != 0 and i < n:\n",
    "    r = 10*r\n",
    "    s = s + str(r//q)\n",
    "    r = r % q\n",
    "    i = i + 1\n",
    "print(\"%d/%d=%f\" % (p,q,p/q))\n",
    "print(\"%d/%d=%s\" % (p,q,s))"
   ]
  },
  {
   "cell_type": "code",
   "execution_count": 8,
   "metadata": {},
   "outputs": [
    {
     "name": "stdout",
     "output_type": "stream",
     "text": [
      "80.81130039300321 20\n"
     ]
    }
   ],
   "source": [
    "x = 60\n",
    "year = 1\n",
    "while 1:\n",
    "    x *= 1.015\n",
    "    if x >= 80:\n",
    "        print(x,year)\n",
    "        break\n",
    "    else:\n",
    "        year += 1\n"
   ]
  },
  {
   "cell_type": "code",
   "execution_count": 9,
   "metadata": {},
   "outputs": [
    {
     "name": "stdout",
     "output_type": "stream",
     "text": [
      "1534\n"
     ]
    }
   ],
   "source": [
    "n = 1\n",
    "s = 1\n",
    "while n <= 9:\n",
    "    s = (s + 1) * 2\n",
    "    n = n + 1\n",
    "print(s)"
   ]
  },
  {
   "cell_type": "code",
   "execution_count": 10,
   "metadata": {},
   "outputs": [
    {
     "name": "stdout",
     "output_type": "stream",
     "text": [
      "28653\n"
     ]
    }
   ],
   "source": [
    "n = 1\n",
    "a = 3\n",
    "b = 5\n",
    "c = a + b\n",
    "s = 1 + c\n",
    "while n <= 16:\n",
    "    s = s + c\n",
    "    c = c + b\n",
    "    n = n + 1\n",
    "    b = c - b\n",
    "print(s)"
   ]
  },
  {
   "cell_type": "code",
   "execution_count": 11,
   "metadata": {},
   "outputs": [
    {
     "name": "stdout",
     "output_type": "stream",
     "text": [
      "6\n",
      "[1, 2, 3]\n",
      "28\n",
      "[1, 2, 4, 7, 14]\n",
      "496\n",
      "[1, 2, 4, 8, 16, 31, 62, 124, 248]\n"
     ]
    }
   ],
   "source": [
    "from functools import reduce\n",
    "def sum(a,b):\n",
    "    return a+b\n",
    "for i in range(2,1001):\n",
    "    l = [1]\n",
    "    for j in range(2,int(i/2+1)):\n",
    "        if i%j==0:\n",
    "            l.append(j)\n",
    "    if i == reduce(sum,l):\n",
    "        print(i)\n",
    "        print(l)"
   ]
  },
  {
   "cell_type": "code",
   "execution_count": 12,
   "metadata": {},
   "outputs": [
    {
     "name": "stdout",
     "output_type": "stream",
     "text": [
      "997\n"
     ]
    }
   ],
   "source": [
    "for i in range(900,1000):\n",
    "    if i % 5 == 2 and i % 7 == 3 and i % 3 == 1:\n",
    "        print(i)"
   ]
  },
  {
   "cell_type": "code",
   "execution_count": null,
   "metadata": {},
   "outputs": [],
   "source": [
    "for i in range(1,100):\n",
    "    if ((i + 12) * 2) == (i + 32):\n",
    "        print(i)"
   ]
  }
 ],
 "metadata": {
  "kernelspec": {
   "display_name": "Python 3",
   "language": "python",
   "name": "python3"
  },
  "language_info": {
   "codemirror_mode": {
    "name": "ipython",
    "version": 3
   },
   "file_extension": ".py",
   "mimetype": "text/x-python",
   "name": "python",
   "nbconvert_exporter": "python",
   "pygments_lexer": "ipython3",
   "version": "3.7.0"
  }
 },
 "nbformat": 4,
 "nbformat_minor": 2
}
