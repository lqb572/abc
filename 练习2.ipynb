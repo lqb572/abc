{
 "cells": [
  {
   "cell_type": "code",
   "execution_count": 3,
   "metadata": {},
   "outputs": [
    {
     "name": "stdout",
     "output_type": "stream",
     "text": [
      "输入5个字符：0,a,0,b,1\n",
      "2\n"
     ]
    }
   ],
   "source": [
    "m=input(\"输入5个字符：\")\n",
    "print(m.count(\"0\"))"
   ]
  },
  {
   "cell_type": "code",
   "execution_count": 5,
   "metadata": {},
   "outputs": [
    {
     "name": "stdout",
     "output_type": "stream",
     "text": [
      "请输入一个小写英文字母:q\n",
      "Q\n"
     ]
    }
   ],
   "source": [
    "i = input(\"请输入一个小写英文字母:\");\n",
    "if(ord(i) >= ord('a') and ord(i) <= ord('z')):\n",
    "    print(i.upper());\n",
    "else:\n",
    "    print(\"不是小写字母!\")"
   ]
  },
  {
   "cell_type": "code",
   "execution_count": 5,
   "metadata": {},
   "outputs": [
    {
     "name": "stdout",
     "output_type": "stream",
     "text": [
      "a=3\n",
      "b=6\n",
      "b\n"
     ]
    }
   ],
   "source": [
    "a = input(\"a=\")\n",
    "b = input(\"b=\")\n",
    "a = int(a)\n",
    "b = int(b)\n",
    "if a > b:\n",
    "    print(\"a\")\n",
    "if b > a:\n",
    "    print(\"b\")"
   ]
  },
  {
   "cell_type": "code",
   "execution_count": 31,
   "metadata": {},
   "outputs": [
    {
     "name": "stdout",
     "output_type": "stream",
     "text": [
      "year:2000\n",
      "2000是世纪闰年\n"
     ]
    }
   ],
   "source": [
    "i = input(\"year:\")\n",
    "i = int(i)\n",
    "if i % 4 == 0 and i % 100 != 0:\n",
    "    print(\"%s是普通闰年\"%i)\n",
    "elif i % 400 == 0:\n",
    "    print(\"%s是世纪闰年\"%i)\n",
    "else:\n",
    "    print(\"%s不是闰年\"%i)"
   ]
  },
  {
   "cell_type": "code",
   "execution_count": 8,
   "metadata": {},
   "outputs": [
    {
     "name": "stdout",
     "output_type": "stream",
     "text": [
      "a= 23\n",
      "b= 32\n",
      "32 23\n"
     ]
    }
   ],
   "source": [
    "a = input(\"a= \")\n",
    "b = input(\"b= \")\n",
    "a = int(a)\n",
    "b = int(b)\n",
    "if a > b:\n",
    "    print(a,b)\n",
    "if b > a:\n",
    "    print(b,a)"
   ]
  },
  {
   "cell_type": "code",
   "execution_count": 9,
   "metadata": {},
   "outputs": [
    {
     "name": "stdout",
     "output_type": "stream",
     "text": [
      "a= 1\n",
      "b= 4\n",
      "c= 5\n",
      "1\n"
     ]
    }
   ],
   "source": [
    "a = input(\"a= \")\n",
    "b = input(\"b= \")\n",
    "c = input(\"c= \")\n",
    "a = int(a)\n",
    "b = int(b)\n",
    "c = int(c)\n",
    "num = min(a,b,c)\n",
    "print(num)"
   ]
  },
  {
   "cell_type": "code",
   "execution_count": null,
   "metadata": {},
   "outputs": [],
   "source": [
    "elif a>=60 and a<100:\n",
    "    a=a+(a-60)*0.025\n",
    "    print(a)\n",
    "elif a>=100:\n",
    "    a=a+(a-100)*0.01\n",
    "    print(a)"
   ]
  },
  {
   "cell_type": "code",
   "execution_count": 14,
   "metadata": {},
   "outputs": [
    {
     "name": "stdout",
     "output_type": "stream",
     "text": [
      "请输入本月的利润(万): 145\n",
      "应发放奖金总数:145.45(万)\n"
     ]
    }
   ],
   "source": [
    "a = input(\"请输入本月的利润(万): \")\n",
    "a = float(a)\n",
    "if a <= 10:\n",
    "    a = a*(1+0.12)\n",
    "    print(\"应发放奖金总数:%s(万)\"%a) \n",
    "elif a > 10 and a <20:\n",
    "    a = a + (a-10)*0.085\n",
    "    print(\"应发放奖金总数:%s(万)\"%a)\n",
    "elif a >= 20 and a < 40:\n",
    "    a = a + (a-20)*0.06\n",
    "    print(\"应发放奖金总数:%s(万)\"%a)\n",
    "elif a >= 40 and a < 60:\n",
    "    a = a + (a-40)*0.04\n",
    "    print(\"应发放奖金总数:%s(万)\"%a)\n",
    "elif a >= 60 and a<100:\n",
    "    a = a + (a-60)*0.025\n",
    "    print(\"应发放奖金总数:%s(万)\"%a)\n",
    "elif a >= 100:\n",
    "    a = a + (a-100)*0.01\n",
    "    print(\"应发放奖金总数:%s(万)\"%a)"
   ]
  },
  {
   "cell_type": "code",
   "execution_count": 6,
   "metadata": {},
   "outputs": [
    {
     "name": "stdout",
     "output_type": "stream",
     "text": [
      "女\n"
     ]
    }
   ],
   "source": [
    "dict = {'louqianbo':\"女\"}\n",
    "print(dict['louqianbo'])"
   ]
  },
  {
   "cell_type": "code",
   "execution_count": 7,
   "metadata": {},
   "outputs": [
    {
     "name": "stdout",
     "output_type": "stream",
     "text": [
      "{'louqianbo': '女'}\n"
     ]
    }
   ],
   "source": [
    "dict = {'louqianbo':\"女\"}\n",
    "a=str(dict)\n",
    "‪C:\\Users\\hp\\Desktop\\作业.txt\n",
    "print(a)"
   ]
  },
  {
   "cell_type": "code",
   "execution_count": 11,
   "metadata": {},
   "outputs": [
    {
     "ename": "OSError",
     "evalue": "[Errno 22] Invalid argument: '\\u202aC:\\\\\\\\Users\\\\\\\\hp\\\\\\\\Desktop\\\\\\\\作业.txt'",
     "output_type": "error",
     "traceback": [
      "\u001b[1;31m---------------------------------------------------------------------------\u001b[0m",
      "\u001b[1;31mOSError\u001b[0m                                   Traceback (most recent call last)",
      "\u001b[1;32m<ipython-input-11-67178523f2bb>\u001b[0m in \u001b[0;36m<module>\u001b[1;34m()\u001b[0m\n\u001b[0;32m      2\u001b[0m \u001b[0ma\u001b[0m\u001b[1;33m=\u001b[0m\u001b[0mstr\u001b[0m\u001b[1;33m(\u001b[0m\u001b[0mdict\u001b[0m\u001b[1;33m)\u001b[0m\u001b[1;33m\u001b[0m\u001b[0m\n\u001b[0;32m      3\u001b[0m \u001b[0mpath\u001b[0m\u001b[1;33m=\u001b[0m\u001b[1;34mr'‪C:\\\\Users\\\\hp\\\\Desktop\\\\作业.txt'\u001b[0m\u001b[1;33m\u001b[0m\u001b[0m\n\u001b[1;32m----> 4\u001b[1;33m \u001b[0mf\u001b[0m\u001b[1;33m=\u001b[0m\u001b[0mopen\u001b[0m\u001b[1;33m(\u001b[0m\u001b[0mpath\u001b[0m\u001b[1;33m,\u001b[0m\u001b[1;34m'w'\u001b[0m\u001b[1;33m,\u001b[0m\u001b[0mencoding\u001b[0m\u001b[1;33m=\u001b[0m\u001b[1;34m'utf-8'\u001b[0m\u001b[1;33m)\u001b[0m\u001b[1;33m\u001b[0m\u001b[0m\n\u001b[0m\u001b[0;32m      5\u001b[0m \u001b[0mf\u001b[0m\u001b[1;33m.\u001b[0m\u001b[0mwrite\u001b[0m\u001b[1;33m(\u001b[0m\u001b[0ma\u001b[0m\u001b[1;33m)\u001b[0m\u001b[1;33m\u001b[0m\u001b[0m\n\u001b[0;32m      6\u001b[0m \u001b[0mf\u001b[0m\u001b[1;33m.\u001b[0m\u001b[0mclose\u001b[0m\u001b[1;33m\u001b[0m\u001b[0m\n",
      "\u001b[1;31mOSError\u001b[0m: [Errno 22] Invalid argument: '\\u202aC:\\\\\\\\Users\\\\\\\\hp\\\\\\\\Desktop\\\\\\\\作业.txt'"
     ]
    }
   ],
   "source": [
    "dict = {'louqianbo':\"女\"}\n",
    "a=str(dict)\n",
    "path=r'‪C:\\Users\\hp\\Desktop\\作业.txt'\n",
    "f=open(path,'w',encoding='utf-8')\n",
    "f.write(a)\n",
    "f.close"
   ]
  },
  {
   "cell_type": "code",
   "execution_count": 21,
   "metadata": {},
   "outputs": [
    {
     "name": "stdout",
     "output_type": "stream",
     "text": [
      "<_io.TextIOWrapper name='test.txt' mode='w' encoding='cp936'>\n"
     ]
    }
   ],
   "source": [
    "dict = {'louqianbo':\"女\"}\n",
    "a=str(dict)\n",
    "f=open('test.txt','w')\n",
    "f.write('a')\n",
    "f.close()\n",
    "print(f)"
   ]
  },
  {
   "cell_type": "code",
   "execution_count": 25,
   "metadata": {},
   "outputs": [
    {
     "ename": "UnsupportedOperation",
     "evalue": "not readable",
     "output_type": "error",
     "traceback": [
      "\u001b[1;31m---------------------------------------------------------------------------\u001b[0m",
      "\u001b[1;31mUnsupportedOperation\u001b[0m                      Traceback (most recent call last)",
      "\u001b[1;32m<ipython-input-25-72a5cfa1deb3>\u001b[0m in \u001b[0;36m<module>\u001b[1;34m()\u001b[0m\n\u001b[0;32m      3\u001b[0m \u001b[0mf\u001b[0m\u001b[1;33m.\u001b[0m\u001b[0mwrite\u001b[0m\u001b[1;33m(\u001b[0m\u001b[1;34m'i am here!\\n'\u001b[0m\u001b[1;33m)\u001b[0m\u001b[1;33m\u001b[0m\u001b[0m\n\u001b[0;32m      4\u001b[0m \u001b[1;31m#f.close()\u001b[0m\u001b[1;33m\u001b[0m\u001b[1;33m\u001b[0m\u001b[0m\n\u001b[1;32m----> 5\u001b[1;33m \u001b[0mprint\u001b[0m\u001b[1;33m(\u001b[0m\u001b[0mf\u001b[0m\u001b[1;33m.\u001b[0m\u001b[0mread\u001b[0m\u001b[1;33m(\u001b[0m\u001b[1;33m)\u001b[0m\u001b[1;33m)\u001b[0m\u001b[1;33m\u001b[0m\u001b[0m\n\u001b[0m",
      "\u001b[1;31mUnsupportedOperation\u001b[0m: not readable"
     ]
    }
   ],
   "source": [
    "f = open('test.txt', 'w',encoding='utf-8')\n",
    "f.write('hello world,\\n')\n",
    "f.write('i am here!\\n')\n",
    "#f.close()\n",
    "print(f.read())"
   ]
  },
  {
   "cell_type": "code",
   "execution_count": 26,
   "metadata": {},
   "outputs": [
    {
     "name": "stdout",
     "output_type": "stream",
     "text": [
      "hello world,\n",
      "i am here!\n",
      "\n"
     ]
    }
   ],
   "source": [
    "f=open('test.txt','r')\n",
    "txt=f.read()\n",
    "f.close()\n",
    "print(txt)"
   ]
  },
  {
   "cell_type": "code",
   "execution_count": 30,
   "metadata": {},
   "outputs": [
    {
     "ename": "UnicodeDecodeError",
     "evalue": "'gbk' codec can't decode byte 0xb3 in position 17: illegal multibyte sequence",
     "output_type": "error",
     "traceback": [
      "\u001b[1;31m---------------------------------------------------------------------------\u001b[0m",
      "\u001b[1;31mUnicodeDecodeError\u001b[0m                        Traceback (most recent call last)",
      "\u001b[1;32m<ipython-input-30-05a44473982d>\u001b[0m in \u001b[0;36m<module>\u001b[1;34m()\u001b[0m\n\u001b[0;32m      5\u001b[0m \u001b[0mf\u001b[0m\u001b[1;33m.\u001b[0m\u001b[0mwrite\u001b[0m\u001b[1;33m(\u001b[0m\u001b[0mstr\u001b[0m\u001b[1;33m(\u001b[0m\u001b[0mdict\u001b[0m\u001b[1;33m)\u001b[0m\u001b[1;33m)\u001b[0m\u001b[1;33m\u001b[0m\u001b[0m\n\u001b[0;32m      6\u001b[0m \u001b[0mf\u001b[0m\u001b[1;33m=\u001b[0m\u001b[0mopen\u001b[0m\u001b[1;33m(\u001b[0m\u001b[1;34m'test.txt'\u001b[0m\u001b[1;33m,\u001b[0m\u001b[1;34m'r'\u001b[0m\u001b[1;33m)\u001b[0m\u001b[1;33m\u001b[0m\u001b[0m\n\u001b[1;32m----> 7\u001b[1;33m \u001b[0mtxt1\u001b[0m\u001b[1;33m=\u001b[0m\u001b[0mf\u001b[0m\u001b[1;33m.\u001b[0m\u001b[0mread\u001b[0m\u001b[1;33m(\u001b[0m\u001b[1;33m)\u001b[0m\u001b[1;33m\u001b[0m\u001b[0m\n\u001b[0m\u001b[0;32m      8\u001b[0m \u001b[0mf\u001b[0m\u001b[1;33m.\u001b[0m\u001b[0mclose\u001b[0m\u001b[1;33m(\u001b[0m\u001b[1;33m)\u001b[0m\u001b[1;33m\u001b[0m\u001b[0m\n\u001b[0;32m      9\u001b[0m \u001b[0mprint\u001b[0m\u001b[1;33m(\u001b[0m\u001b[0mtxt1\u001b[0m\u001b[1;33m)\u001b[0m\u001b[1;33m\u001b[0m\u001b[0m\n",
      "\u001b[1;31mUnicodeDecodeError\u001b[0m: 'gbk' codec can't decode byte 0xb3 in position 17: illegal multibyte sequence"
     ]
    }
   ],
   "source": [
    "dict = {'louqianbo':\"女\"}\n",
    "#a=str(dict)\n",
    "#print(a)\n",
    "f = open('test.txt', 'w',encoding='utf-8')\n",
    "f.write(str(dict))\n",
    "f=open('test.txt','r')\n",
    "txt1=f.read()\n",
    "f.close()\n",
    "print(txt1)"
   ]
  },
  {
   "cell_type": "code",
   "execution_count": null,
   "metadata": {},
   "outputs": [],
   "source": []
  }
 ],
 "metadata": {
  "kernelspec": {
   "display_name": "Python 3",
   "language": "python",
   "name": "python3"
  },
  "language_info": {
   "codemirror_mode": {
    "name": "ipython",
    "version": 3
   },
   "file_extension": ".py",
   "mimetype": "text/x-python",
   "name": "python",
   "nbconvert_exporter": "python",
   "pygments_lexer": "ipython3",
   "version": "3.7.0"
  }
 },
 "nbformat": 4,
 "nbformat_minor": 2
}
