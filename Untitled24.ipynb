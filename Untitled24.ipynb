{
 "cells": [
  {
   "cell_type": "code",
   "execution_count": null,
   "metadata": {},
   "outputs": [],
   "source": [
    "from selenium.webdriver.common.keys import Keys #引入键盘操作\n",
    "import subprocess#导入subprocess\n",
    "import codecs#导入编解码器\n",
    "from selenium import webdriver#从selenium中导入webdriver\n",
    "import re#导入正则表达式\n",
    "import time#导入时间函数\n",
    "from selenium.webdriver.chrome.options import Options#引入选项的包\n",
    "url=\"https://item.jd.com/34640640658.html\"#定位网页网址\n",
    "d = webdriver.Chrome() \n",
    "d.get(url)\n",
    "time.sleep(3)\n",
    "d.find_element_by_xpath(r'//*[@id=\"detail\"]/div[1]/ul/li[5]').click()#点击商品评价\n",
    "reobj = re.compile(r'<p class=\"comment-con\">([\\s\\S]*?)</p>')#使用正则表达式提取p class=\"comment-con\">([\\s\\S]*?)</p>的内容，最终提取到评论\n",
    "comment = []\n",
    "count = 1#建立一个comment\n",
    "def next_page(d):\n",
    "    try:\n",
    "        d.find_element_by_css_selector('.ui-page').find_element_by_link_text(u\"下一页\").click()#翻页 下一页\n",
    "        time.sleep(3)\n",
    "    except:\n",
    "        pass\n",
    "while True:\n",
    "    html = d.page_source#获取源代码\n",
    "    result = reobj.finditer(html) #用一次正则查找源码中的信息，将其保存到result中\n",
    "    for i in result:#遍历一次正则找到的信息\n",
    "        comment.append(i.group(1))#如果匹配成功，将i加入comment中\n",
    "        print(str(count) + \".\\t\" + i.group(1))\n",
    "        count += 1  \n",
    "    next_page(d)\n",
    "    "
   ]
  },
  {
   "cell_type": "code",
   "execution_count": null,
   "metadata": {},
   "outputs": [],
   "source": []
  }
 ],
 "metadata": {
  "kernelspec": {
   "display_name": "Python 3",
   "language": "python",
   "name": "python3"
  },
  "language_info": {
   "codemirror_mode": {
    "name": "ipython",
    "version": 3
   },
   "file_extension": ".py",
   "mimetype": "text/x-python",
   "name": "python",
   "nbconvert_exporter": "python",
   "pygments_lexer": "ipython3",
   "version": "3.7.0"
  }
 },
 "nbformat": 4,
 "nbformat_minor": 2
}
