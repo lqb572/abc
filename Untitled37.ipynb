{
 "cells": [
  {
   "cell_type": "code",
   "execution_count": 3,
   "metadata": {},
   "outputs": [
    {
     "name": "stdout",
     "output_type": "stream",
     "text": [
      "输入5个字符：0,a,0,b,1\n",
      "2\n"
     ]
    }
   ],
   "source": [
    "m=input(\"输入5个字符：\")\n",
    "print(m.count(\"0\"))"
   ]
  },
  {
   "cell_type": "code",
   "execution_count": 5,
   "metadata": {},
   "outputs": [
    {
     "name": "stdout",
     "output_type": "stream",
     "text": [
      "请输入一个小写英文字母:q\n",
      "Q\n"
     ]
    }
   ],
   "source": [
    "i = input(\"请输入一个小写英文字母:\");\n",
    "if(ord(i) >= ord('a') and ord(i) <= ord('z')):\n",
    "    print(i.upper());\n",
    "else:\n",
    "    print(\"不是小写字母!\")"
   ]
  },
  {
   "cell_type": "code",
   "execution_count": 5,
   "metadata": {},
   "outputs": [
    {
     "name": "stdout",
     "output_type": "stream",
     "text": [
      "a=3\n",
      "b=6\n",
      "b\n"
     ]
    }
   ],
   "source": [
    "a = input(\"a=\")\n",
    "b = input(\"b=\")\n",
    "a = int(a)\n",
    "b = int(b)\n",
    "if a > b:\n",
    "    print(\"a\")\n",
    "if b > a:\n",
    "    print(\"b\")"
   ]
  },
  {
   "cell_type": "code",
   "execution_count": 6,
   "metadata": {},
   "outputs": [
    {
     "name": "stdout",
     "output_type": "stream",
     "text": [
      "请输入一个年份：1999\n",
      "1999不是闰年\n"
     ]
    }
   ],
   "source": [
    "i = input(\"请输入一个年份：\")\n",
    "i = int(i)\n",
    "if i % 4 == 0 and i % 100 != 0:\n",
    "    print(\"%s是闰年\"%i)\n",
    "else:\n",
    "    print(\"%s不是闰年\"%i)"
   ]
  },
  {
   "cell_type": "code",
   "execution_count": 8,
   "metadata": {},
   "outputs": [
    {
     "name": "stdout",
     "output_type": "stream",
     "text": [
      "a= 23\n",
      "b= 32\n",
      "32 23\n"
     ]
    }
   ],
   "source": [
    "a = input(\"a= \")\n",
    "b = input(\"b= \")\n",
    "a = int(a)\n",
    "b = int(b)\n",
    "if a > b:\n",
    "    print(a,b)\n",
    "if b > a:\n",
    "    print(b,a)"
   ]
  },
  {
   "cell_type": "code",
   "execution_count": 9,
   "metadata": {},
   "outputs": [
    {
     "name": "stdout",
     "output_type": "stream",
     "text": [
      "a= 1\n",
      "b= 4\n",
      "c= 5\n",
      "1\n"
     ]
    }
   ],
   "source": [
    "a = input(\"a= \")\n",
    "b = input(\"b= \")\n",
    "c = input(\"c= \")\n",
    "a = int(a)\n",
    "b = int(b)\n",
    "c = int(c)\n",
    "num = min(a,b,c)\n",
    "print(num)"
   ]
  },
  {
   "cell_type": "code",
   "execution_count": null,
   "metadata": {},
   "outputs": [],
   "source": [
    "elif a>=60 and a<100:\n",
    "    a=a+(a-60)*0.025\n",
    "    print(a)\n",
    "elif a>=100:\n",
    "    a=a+(a-100)*0.01\n",
    "    print(a)"
   ]
  },
  {
   "cell_type": "code",
   "execution_count": 14,
   "metadata": {},
   "outputs": [
    {
     "name": "stdout",
     "output_type": "stream",
     "text": [
      "请输入本月的利润(万): 145\n",
      "应发放奖金总数:145.45(万)\n"
     ]
    }
   ],
   "source": [
    "a = input(\"请输入本月的利润(万): \")\n",
    "a = float(a)\n",
    "if a <= 10:\n",
    "    a = a*(1+0.12)\n",
    "    print(\"应发放奖金总数:%s(万)\"%a) \n",
    "elif a > 10 and a <20:\n",
    "    a = a + (a-10)*0.085\n",
    "    print(\"应发放奖金总数:%s(万)\"%a)\n",
    "elif a >= 20 and a < 40:\n",
    "    a = a + (a-20)*0.06\n",
    "    print(\"应发放奖金总数:%s(万)\"%a)\n",
    "elif a >= 40 and a < 60:\n",
    "    a = a + (a-40)*0.04\n",
    "    print(\"应发放奖金总数:%s(万)\"%a)\n",
    "elif a >= 60 and a<100:\n",
    "    a = a + (a-60)*0.025\n",
    "    print(\"应发放奖金总数:%s(万)\"%a)\n",
    "elif a >= 100:\n",
    "    a = a + (a-100)*0.01\n",
    "    print(\"应发放奖金总数:%s(万)\"%a)"
   ]
  },
  {
   "cell_type": "code",
   "execution_count": null,
   "metadata": {},
   "outputs": [],
   "source": [
    "\n"
   ]
  }
 ],
 "metadata": {
  "kernelspec": {
   "display_name": "Python 3",
   "language": "python",
   "name": "python3"
  },
  "language_info": {
   "codemirror_mode": {
    "name": "ipython",
    "version": 3
   },
   "file_extension": ".py",
   "mimetype": "text/x-python",
   "name": "python",
   "nbconvert_exporter": "python",
   "pygments_lexer": "ipython3",
   "version": "3.7.0"
  }
 },
 "nbformat": 4,
 "nbformat_minor": 2
}
