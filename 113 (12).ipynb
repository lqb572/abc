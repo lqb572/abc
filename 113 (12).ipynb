{
 "cells": [
  {
   "cell_type": "code",
   "execution_count": 1,
   "metadata": {},
   "outputs": [],
   "source": [
    "import subprocess   \n",
    "from selenium import webdriver    \n",
    "import re   \n",
    "import time  \n",
    "from selenium.webdriver.chrome.options import Options    \n",
    "from selenium.webdriver.common.action_chains import ActionChains\n",
    "from selenium.webdriver.common.keys import Keys   "
   ]
  },
  {
   "cell_type": "code",
   "execution_count": 2,
   "metadata": {},
   "outputs": [],
   "source": [
    "command = r\"C:\\Users\\1\\Desktop\\chrome.lnk --remote-debugging-port=9222 --user-data-dir=C:\\chrome_profile\""
   ]
  },
  {
   "cell_type": "code",
   "execution_count": 3,
   "metadata": {},
   "outputs": [],
   "source": [
    "\n",
    "driver = webdriver.Chrome() "
   ]
  },
  {
   "cell_type": "code",
   "execution_count": 4,
   "metadata": {},
   "outputs": [],
   "source": [
    "driver.get(\"https://consumeprod.alipay.com/record/advanced.htm\")   "
   ]
  },
  {
   "cell_type": "code",
   "execution_count": 12,
   "metadata": {},
   "outputs": [
    {
     "ename": "ElementNotVisibleException",
     "evalue": "Message: element not interactable\n  (Session info: chrome=75.0.3770.100)\n  (Driver info: chromedriver=2.42.591088 (7b2b2dca23cca0862f674758c9a3933e685c27d5),platform=Windows NT 10.0.17134 x86_64)\n",
     "output_type": "error",
     "traceback": [
      "\u001b[1;31m---------------------------------------------------------------------------\u001b[0m",
      "\u001b[1;31mElementNotVisibleException\u001b[0m                Traceback (most recent call last)",
      "\u001b[1;32m<ipython-input-12-94e6da4d571d>\u001b[0m in \u001b[0;36m<module>\u001b[1;34m()\u001b[0m\n\u001b[0;32m      1\u001b[0m \u001b[0mdriver\u001b[0m\u001b[1;33m.\u001b[0m\u001b[0mfind_element_by_link_text\u001b[0m\u001b[1;33m(\u001b[0m\u001b[1;34mu\"最近一周\"\u001b[0m\u001b[1;33m)\u001b[0m\u001b[1;33m.\u001b[0m\u001b[0mclick\u001b[0m\u001b[1;33m(\u001b[0m\u001b[1;33m)\u001b[0m\u001b[1;33m\u001b[0m\u001b[0m\n\u001b[1;32m----> 2\u001b[1;33m \u001b[0mdriver\u001b[0m\u001b[1;33m.\u001b[0m\u001b[0mfind_element_by_xpath\u001b[0m\u001b[1;33m(\u001b[0m\u001b[1;34m\"//div[9]/ul/li[5]\"\u001b[0m\u001b[1;33m)\u001b[0m\u001b[1;33m.\u001b[0m\u001b[0mclick\u001b[0m\u001b[1;33m(\u001b[0m\u001b[1;33m)\u001b[0m\u001b[1;33m\u001b[0m\u001b[0m\n\u001b[0m\u001b[0;32m      3\u001b[0m \u001b[0mdriver\u001b[0m\u001b[1;33m.\u001b[0m\u001b[0mfind_element_by_id\u001b[0m\u001b[1;33m(\u001b[0m\u001b[1;34m\"beginDate\"\u001b[0m\u001b[1;33m)\u001b[0m\u001b[1;33m.\u001b[0m\u001b[0mclick\u001b[0m\u001b[1;33m(\u001b[0m\u001b[1;33m)\u001b[0m\u001b[1;33m\u001b[0m\u001b[0m\n\u001b[0;32m      4\u001b[0m \u001b[0mdriver\u001b[0m\u001b[1;33m.\u001b[0m\u001b[0mfind_element_by_xpath\u001b[0m\u001b[1;33m(\u001b[0m\u001b[1;34m\"//div[25]/div/ul/li[3]\"\u001b[0m\u001b[1;33m)\u001b[0m\u001b[1;33m.\u001b[0m\u001b[0mclick\u001b[0m\u001b[1;33m(\u001b[0m\u001b[1;33m)\u001b[0m\u001b[1;33m\u001b[0m\u001b[0m\n\u001b[0;32m      5\u001b[0m \u001b[0mdriver\u001b[0m\u001b[1;33m.\u001b[0m\u001b[0mfind_element_by_xpath\u001b[0m\u001b[1;33m(\u001b[0m\u001b[1;34m\"//div[25]/div/div/ul[3]/li\"\u001b[0m\u001b[1;33m)\u001b[0m\u001b[1;33m.\u001b[0m\u001b[0mclick\u001b[0m\u001b[1;33m(\u001b[0m\u001b[1;33m)\u001b[0m\u001b[1;33m\u001b[0m\u001b[0m\n",
      "\u001b[1;32m~\\AppData\\Local\\Continuum\\anaconda3\\lib\\site-packages\\selenium\\webdriver\\remote\\webelement.py\u001b[0m in \u001b[0;36mclick\u001b[1;34m(self)\u001b[0m\n\u001b[0;32m     78\u001b[0m     \u001b[1;32mdef\u001b[0m \u001b[0mclick\u001b[0m\u001b[1;33m(\u001b[0m\u001b[0mself\u001b[0m\u001b[1;33m)\u001b[0m\u001b[1;33m:\u001b[0m\u001b[1;33m\u001b[0m\u001b[0m\n\u001b[0;32m     79\u001b[0m         \u001b[1;34m\"\"\"Clicks the element.\"\"\"\u001b[0m\u001b[1;33m\u001b[0m\u001b[0m\n\u001b[1;32m---> 80\u001b[1;33m         \u001b[0mself\u001b[0m\u001b[1;33m.\u001b[0m\u001b[0m_execute\u001b[0m\u001b[1;33m(\u001b[0m\u001b[0mCommand\u001b[0m\u001b[1;33m.\u001b[0m\u001b[0mCLICK_ELEMENT\u001b[0m\u001b[1;33m)\u001b[0m\u001b[1;33m\u001b[0m\u001b[0m\n\u001b[0m\u001b[0;32m     81\u001b[0m \u001b[1;33m\u001b[0m\u001b[0m\n\u001b[0;32m     82\u001b[0m     \u001b[1;32mdef\u001b[0m \u001b[0msubmit\u001b[0m\u001b[1;33m(\u001b[0m\u001b[0mself\u001b[0m\u001b[1;33m)\u001b[0m\u001b[1;33m:\u001b[0m\u001b[1;33m\u001b[0m\u001b[0m\n",
      "\u001b[1;32m~\\AppData\\Local\\Continuum\\anaconda3\\lib\\site-packages\\selenium\\webdriver\\remote\\webelement.py\u001b[0m in \u001b[0;36m_execute\u001b[1;34m(self, command, params)\u001b[0m\n\u001b[0;32m    631\u001b[0m             \u001b[0mparams\u001b[0m \u001b[1;33m=\u001b[0m \u001b[1;33m{\u001b[0m\u001b[1;33m}\u001b[0m\u001b[1;33m\u001b[0m\u001b[0m\n\u001b[0;32m    632\u001b[0m         \u001b[0mparams\u001b[0m\u001b[1;33m[\u001b[0m\u001b[1;34m'id'\u001b[0m\u001b[1;33m]\u001b[0m \u001b[1;33m=\u001b[0m \u001b[0mself\u001b[0m\u001b[1;33m.\u001b[0m\u001b[0m_id\u001b[0m\u001b[1;33m\u001b[0m\u001b[0m\n\u001b[1;32m--> 633\u001b[1;33m         \u001b[1;32mreturn\u001b[0m \u001b[0mself\u001b[0m\u001b[1;33m.\u001b[0m\u001b[0m_parent\u001b[0m\u001b[1;33m.\u001b[0m\u001b[0mexecute\u001b[0m\u001b[1;33m(\u001b[0m\u001b[0mcommand\u001b[0m\u001b[1;33m,\u001b[0m \u001b[0mparams\u001b[0m\u001b[1;33m)\u001b[0m\u001b[1;33m\u001b[0m\u001b[0m\n\u001b[0m\u001b[0;32m    634\u001b[0m \u001b[1;33m\u001b[0m\u001b[0m\n\u001b[0;32m    635\u001b[0m     \u001b[1;32mdef\u001b[0m \u001b[0mfind_element\u001b[0m\u001b[1;33m(\u001b[0m\u001b[0mself\u001b[0m\u001b[1;33m,\u001b[0m \u001b[0mby\u001b[0m\u001b[1;33m=\u001b[0m\u001b[0mBy\u001b[0m\u001b[1;33m.\u001b[0m\u001b[0mID\u001b[0m\u001b[1;33m,\u001b[0m \u001b[0mvalue\u001b[0m\u001b[1;33m=\u001b[0m\u001b[1;32mNone\u001b[0m\u001b[1;33m)\u001b[0m\u001b[1;33m:\u001b[0m\u001b[1;33m\u001b[0m\u001b[0m\n",
      "\u001b[1;32m~\\AppData\\Local\\Continuum\\anaconda3\\lib\\site-packages\\selenium\\webdriver\\remote\\webdriver.py\u001b[0m in \u001b[0;36mexecute\u001b[1;34m(self, driver_command, params)\u001b[0m\n\u001b[0;32m    319\u001b[0m         \u001b[0mresponse\u001b[0m \u001b[1;33m=\u001b[0m \u001b[0mself\u001b[0m\u001b[1;33m.\u001b[0m\u001b[0mcommand_executor\u001b[0m\u001b[1;33m.\u001b[0m\u001b[0mexecute\u001b[0m\u001b[1;33m(\u001b[0m\u001b[0mdriver_command\u001b[0m\u001b[1;33m,\u001b[0m \u001b[0mparams\u001b[0m\u001b[1;33m)\u001b[0m\u001b[1;33m\u001b[0m\u001b[0m\n\u001b[0;32m    320\u001b[0m         \u001b[1;32mif\u001b[0m \u001b[0mresponse\u001b[0m\u001b[1;33m:\u001b[0m\u001b[1;33m\u001b[0m\u001b[0m\n\u001b[1;32m--> 321\u001b[1;33m             \u001b[0mself\u001b[0m\u001b[1;33m.\u001b[0m\u001b[0merror_handler\u001b[0m\u001b[1;33m.\u001b[0m\u001b[0mcheck_response\u001b[0m\u001b[1;33m(\u001b[0m\u001b[0mresponse\u001b[0m\u001b[1;33m)\u001b[0m\u001b[1;33m\u001b[0m\u001b[0m\n\u001b[0m\u001b[0;32m    322\u001b[0m             response['value'] = self._unwrap_value(\n\u001b[0;32m    323\u001b[0m                 response.get('value', None))\n",
      "\u001b[1;32m~\\AppData\\Local\\Continuum\\anaconda3\\lib\\site-packages\\selenium\\webdriver\\remote\\errorhandler.py\u001b[0m in \u001b[0;36mcheck_response\u001b[1;34m(self, response)\u001b[0m\n\u001b[0;32m    240\u001b[0m                 \u001b[0malert_text\u001b[0m \u001b[1;33m=\u001b[0m \u001b[0mvalue\u001b[0m\u001b[1;33m[\u001b[0m\u001b[1;34m'alert'\u001b[0m\u001b[1;33m]\u001b[0m\u001b[1;33m.\u001b[0m\u001b[0mget\u001b[0m\u001b[1;33m(\u001b[0m\u001b[1;34m'text'\u001b[0m\u001b[1;33m)\u001b[0m\u001b[1;33m\u001b[0m\u001b[0m\n\u001b[0;32m    241\u001b[0m             \u001b[1;32mraise\u001b[0m \u001b[0mexception_class\u001b[0m\u001b[1;33m(\u001b[0m\u001b[0mmessage\u001b[0m\u001b[1;33m,\u001b[0m \u001b[0mscreen\u001b[0m\u001b[1;33m,\u001b[0m \u001b[0mstacktrace\u001b[0m\u001b[1;33m,\u001b[0m \u001b[0malert_text\u001b[0m\u001b[1;33m)\u001b[0m\u001b[1;33m\u001b[0m\u001b[0m\n\u001b[1;32m--> 242\u001b[1;33m         \u001b[1;32mraise\u001b[0m \u001b[0mexception_class\u001b[0m\u001b[1;33m(\u001b[0m\u001b[0mmessage\u001b[0m\u001b[1;33m,\u001b[0m \u001b[0mscreen\u001b[0m\u001b[1;33m,\u001b[0m \u001b[0mstacktrace\u001b[0m\u001b[1;33m)\u001b[0m\u001b[1;33m\u001b[0m\u001b[0m\n\u001b[0m\u001b[0;32m    243\u001b[0m \u001b[1;33m\u001b[0m\u001b[0m\n\u001b[0;32m    244\u001b[0m     \u001b[1;32mdef\u001b[0m \u001b[0m_value_or_default\u001b[0m\u001b[1;33m(\u001b[0m\u001b[0mself\u001b[0m\u001b[1;33m,\u001b[0m \u001b[0mobj\u001b[0m\u001b[1;33m,\u001b[0m \u001b[0mkey\u001b[0m\u001b[1;33m,\u001b[0m \u001b[0mdefault\u001b[0m\u001b[1;33m)\u001b[0m\u001b[1;33m:\u001b[0m\u001b[1;33m\u001b[0m\u001b[0m\n",
      "\u001b[1;31mElementNotVisibleException\u001b[0m: Message: element not interactable\n  (Session info: chrome=75.0.3770.100)\n  (Driver info: chromedriver=2.42.591088 (7b2b2dca23cca0862f674758c9a3933e685c27d5),platform=Windows NT 10.0.17134 x86_64)\n"
     ]
    }
   ],
   "source": [
    "driver.find_element_by_link_text(u\"最近一周\").click()\n",
    "driver.find_element_by_xpath(\"//div[9]/ul/li[5]\").click()\n",
    "driver.find_element_by_id(\"beginDate\").click()\n",
    "driver.find_element_by_xpath(\"//div[25]/div/ul/li[3]\").click()\n",
    "driver.find_element_by_xpath(\"//div[25]/div/div/ul[3]/li\").click()\n",
    "driver.find_element_by_xpath(\"//div[25]/div/ul/li[3]\").click()\n",
    "driver.find_element_by_xpath(\"//div[25]/div/ul/li[3]/span\").click()\n",
    "driver.find_element_by_xpath(\"//div[25]/div/div/ul/li\").click()\n",
    "driver.find_element_by_xpath(\"//div[25]/div/div/ul/li\").click()\n",
    "driver.find_element_by_id(\"J-set-query-form\").click()"
   ]
  },
  {
   "cell_type": "code",
   "execution_count": 13,
   "metadata": {
    "scrolled": true
   },
   "outputs": [
    {
     "name": "stdout",
     "output_type": "stream",
     "text": [
      "1.\t\t\t\t2019.06.16\n",
      "\t\n",
      "2.\t\t\t\t2019.06.16\n",
      "\t\n",
      "3.\t\t\t\t2019.06.16\n",
      "\t\n",
      "4.\t\t\t\t2019.06.16\n",
      "\t\n",
      "5.\t\t\t\t2019.06.15\n",
      "\t\n",
      "6.\t\t\t\t2019.06.15\n",
      "\t\n",
      "7.\t\t\t\t2019.06.15\n",
      "\t\n",
      "8.\t\t\t\t2019.06.15\n",
      "\t\n",
      "1.\t- 22.79\n",
      "2.\t- 8.00\n",
      "3.\t- 3.00\n",
      "4.\t+ 0.12\n",
      "5.\t- 24.80\n",
      "6.\t- 12.89\n",
      "7.\t 30.00\n",
      "8.\t+ 0.12\n",
      "1.\t小羊羔麻辣香锅(下沙店)外卖订单\n",
      "2.\t商品\n",
      "3.\t商品\n",
      "4.\t余额宝-2019.06.15-收益发放\n",
      "5.\t鲜丰水果(杭州下沙宝龙广场店)外卖订单\n",
      "6.\t老北京炸酱面(精品经贸店)外卖订单\n",
      "7.\t余额宝-自动转入\n",
      "8.\t余额宝-2019.06.14-收益发放\n"
     ]
    }
   ],
   "source": [
    "comment = [] \n",
    "comment1=[]\n",
    "comment2=[]\n",
    "while True:\n",
    "    html = driver.page_source     #获取源代码\n",
    "\n",
    "    reobj = re.compile(r'<p class=\"time-d\">([\\d\\D]*?)</p>')\n",
    "       #建立一个comment\n",
    "    count = 1\n",
    "    result = reobj.finditer(html)    #用一次正则查找源码中的信息，将其保存到result中\n",
    "    if not result:\n",
    "        print(\"找不到评论\")    #如果没有评论，输出“找不到评论”\n",
    "    for i in result:\n",
    "        comment.append(i.group(1))       #如果匹配成功，将i加入comment中\n",
    "        print(str(count) + \".\\t\" + i.group(1))\n",
    "        count += 1\n",
    "    \n",
    "    reobj1= re.compile(r'<span class=\"amount-pay\">([\\s\\S]*?)</sp')\n",
    "     #建立一个comment\n",
    "    count = 1\n",
    "    result = reobj1.finditer(html)    #用一次正则查找源码中的信息，将其保存到result中\n",
    "    if not result:\n",
    "        print(\"找不到评论\")    #如果没有评论，输出“找不到评论”\n",
    "    for i in result:\n",
    "        comment1.append(i.group(1))       #如果匹配成功，将i加入comment中\n",
    "        print(str(count) + \".\\t\" + i.group(1))\n",
    "        count += 1\n",
    "    \n",
    "    reobj2 = re.compile(r'target=\"_blank\" seed=\"consumeTitle-linkT[\\d\\D]*?\" smartracker=\"on\">([\\d\\D]*?)</a>')\n",
    "   #建立一个comment\n",
    "    count = 1\n",
    "    result = reobj2.finditer(html)    #用一次正则查找源码中的信息，将其保存到result中\n",
    "    \n",
    "    if not result:\n",
    "        print(\"找不到评论\")    #如果没有评论，输出“找不到评论”\n",
    "    for i in result:\n",
    "        comment2.append(i.group(1))       #如果匹配成功，将i加入comment中\n",
    "        print(str(count) + \".\\t\" + i.group(1))\n",
    "        count += 1\n",
    "    try:         #尝试翻页两次，如果不成功，跳出循环，程序结束\n",
    "        driver.find_element_by_link_text(u\"下一页>\").click()\n",
    "    except:\n",
    "        break\n",
    "    time.sleep(3)"
   ]
  },
  {
   "cell_type": "code",
   "execution_count": 14,
   "metadata": {},
   "outputs": [
    {
     "data": {
      "text/plain": [
       "8"
      ]
     },
     "execution_count": 14,
     "metadata": {},
     "output_type": "execute_result"
    }
   ],
   "source": [
    "len(comment2)"
   ]
  },
  {
   "cell_type": "code",
   "execution_count": 15,
   "metadata": {},
   "outputs": [
    {
     "name": "stdout",
     "output_type": "stream",
     "text": [
      "2019.06.16   - 22.79   小羊羔麻辣香锅(下沙店)外卖订单 \n",
      "\n",
      "2019.06.16   - 8.00   商品 \n",
      "\n",
      "2019.06.16   - 3.00   商品 \n",
      "\n",
      "2019.06.16   + 0.12   余额宝-2019.06.15-收益发放 \n",
      "\n",
      "2019.06.15   - 24.80   鲜丰水果(杭州下沙宝龙广场店)外卖订单 \n",
      "\n",
      "2019.06.15   - 12.89   老北京炸酱面(精品经贸店)外卖订单 \n",
      "\n",
      "2019.06.15    30.00   余额宝-自动转入 \n",
      "\n",
      "2019.06.15   + 0.12   余额宝-2019.06.14-收益发放 \n",
      "\n"
     ]
    }
   ],
   "source": [
    "date1 = comment   #定义date1 = comment\n",
    "price = comment1  #定义price = comment1\n",
    "reason = comment2 #定义reason = comment2\n",
    "list1 = []        #建立一个list\n",
    "for x in range(len(date1)):\n",
    "    list1.append(date1[x].strip()+\"   \"+price[x]+\"   \"+reason[x])  #将list展示为一行中含有三个变量的格式  \n",
    "    \n",
    "for i in range(len(list1)):   \n",
    "    print(list1[i],\"\\n\")      #打印出list"
   ]
  },
  {
   "cell_type": "code",
   "execution_count": 14,
   "metadata": {},
   "outputs": [],
   "source": [
    "with open('d:\\\\5645.csv','w+',encoding='utf-8') as f:\n",
    "    for i in list1:\n",
    "        data = str(i) + ',\\n'\n",
    "        f.write(data)      #将评论用CSV格式保存到d盘中"
   ]
  },
  {
   "cell_type": "code",
   "execution_count": null,
   "metadata": {},
   "outputs": [],
   "source": []
  }
 ],
 "metadata": {
  "kernelspec": {
   "display_name": "Python 3",
   "language": "python",
   "name": "python3"
  },
  "language_info": {
   "codemirror_mode": {
    "name": "ipython",
    "version": 3
   },
   "file_extension": ".py",
   "mimetype": "text/x-python",
   "name": "python",
   "nbconvert_exporter": "python",
   "pygments_lexer": "ipython3",
   "version": "3.7.0"
  }
 },
 "nbformat": 4,
 "nbformat_minor": 2
}
