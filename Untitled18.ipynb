{
 "cells": [
  {
   "cell_type": "code",
   "execution_count": 1,
   "metadata": {},
   "outputs": [],
   "source": [
    "import subprocess\n",
    "from selenium import webdriver\n",
    "from selenium.webdriver.chrome.options import Options\n",
    "from selenium.webdriver.common.action_chains import ActionChains\n",
    "from selenium.webdriver.common.keys import Keys\n",
    "import re,time\n"
   ]
  },
  {
   "cell_type": "code",
   "execution_count": 2,
   "metadata": {},
   "outputs": [
    {
     "name": "stdout",
     "output_type": "stream",
     "text": [
      "\"C:\\Program Files (x86)\\Google\\Chrome\\Application\\chrome.exe\" --remote-debugging-port=9242 --user-data-dir=C:\\chrome_profile\n"
     ]
    }
   ],
   "source": [
    "command = \"\\\"C:\\\\Program Files (x86)\\\\Google\\\\Chrome\\\\Application\\\\chrome.exe\\\" --remote-debugging-port=9242 --user-data-dir=C:\\chrome_profile\"\n",
    "print(command)"
   ]
  },
  {
   "cell_type": "code",
   "execution_count": 3,
   "metadata": {},
   "outputs": [],
   "source": [
    "retcode = subprocess.Popen(command,shell=True)\n",
    "time.sleep(1)\n",
    "chrome_options = Options()\n",
    "chrome_options.add_experimental_option(\"debuggerAddress\", \"127.0.0.1:9222\")"
   ]
  },
  {
   "cell_type": "code",
   "execution_count": null,
   "metadata": {
    "scrolled": true
   },
   "outputs": [],
   "source": [
    "d = webdriver.Chrome(chrome_options=chrome_options)   \n",
    "d.get(\"https://item.jd.com/34640640658.html\")"
   ]
  },
  {
   "cell_type": "code",
   "execution_count": null,
   "metadata": {},
   "outputs": [],
   "source": [
    "d.find_element_by_xpath(r'//*[@id=\"detail\"]/div[1]/ul/li[5]').click()"
   ]
  },
  {
   "cell_type": "code",
   "execution_count": null,
   "metadata": {},
   "outputs": [],
   "source": [
    "reobj = re.compile(r'<p class=\"comment-con\">([\\s\\S]*?)</p>')"
   ]
  },
  {
   "cell_type": "code",
   "execution_count": null,
   "metadata": {},
   "outputs": [],
   "source": [
    "comment = []\n",
    "count = 1"
   ]
  },
  {
   "cell_type": "code",
   "execution_count": null,
   "metadata": {},
   "outputs": [],
   "source": [
    "def next_page(driver):\n",
    "    # driver.find_element_by_link_text(u\"下一页\").click()\n",
    "    parent = driver.find_element_by_css_selector('.ui-page')\n",
    "    try:\n",
    "        parent.find_element_by_link_text(u\"下一页\").click()\n",
    "    except:\n",
    "        time.sleep(2)\n",
    "        page_num = parent.find_element_by_link_text(u\"下一页\").get_attribute('rel') \n",
    "        # ActionChains(driver).send_keys(Keys.SPACE).perform()\n",
    "        # time.sleep(2)\n",
    "        parent.find_element_by_link_text(page_num).click()\n",
    "        # driver.find_element_by_link_text(u\"下一页\").click()\n"
   ]
  },
  {
   "cell_type": "code",
   "execution_count": null,
   "metadata": {},
   "outputs": [],
   "source": [
    "while True:\n",
    "    html = d.page_source\n",
    "    result = reobj.finditer(html)\n",
    "    for p in Page_turning.find_elements_by_tag_name(\"a\"):\n",
    "        ActionChains(d).move_to_element(p).perform()\n",
    "        retry = 0\n",
    "    for i in result:   #遍历一次正则找到的信息\n",
    "        z = reobj1.search(i.group(1))  #用二次正则匹配评论数据，将一条评论数据存入z变量中\n",
    "        try:\n",
    "            comment.append(z.group(1)) #如果匹配成功，将z加入comment中\n",
    "            print(str(count) + \".\\t\" + z.group(1))\n",
    "            count += 1\n",
    "        except:\n",
    "            pass\n",
    "    retry = 0\n",
    "    \n",
    "    try:   #尝试翻页两次，如果不成功，跳出循环，程序结束\n",
    "        time.sleep(2)\n",
    "        next_page(driver)\n",
    "    except:\n",
    "        try:\n",
    "            next_page(driver)\n",
    "        except:\n",
    "            break\n",
    "        "
   ]
  },
  {
   "cell_type": "code",
   "execution_count": null,
   "metadata": {},
   "outputs": [],
   "source": []
  },
  {
   "cell_type": "code",
   "execution_count": null,
   "metadata": {},
   "outputs": [],
   "source": []
  }
 ],
 "metadata": {
  "kernelspec": {
   "display_name": "Python 3",
   "language": "python",
   "name": "python3"
  },
  "language_info": {
   "codemirror_mode": {
    "name": "ipython",
    "version": 3
   },
   "file_extension": ".py",
   "mimetype": "text/x-python",
   "name": "python",
   "nbconvert_exporter": "python",
   "pygments_lexer": "ipython3",
   "version": "3.7.0"
  }
 },
 "nbformat": 4,
 "nbformat_minor": 2
}
