{
 "cells": [
  {
   "cell_type": "code",
   "execution_count": 1,
   "metadata": {},
   "outputs": [],
   "source": [
    "import hashlib\n",
    "from datetime import datetime\n",
    "\n",
    "\n",
    "class Block:\n",
    "    \"\"\"\n",
    "        区块结构\n",
    "            prev_hash:      父区块哈希值\n",
    "            data:           区块内容\n",
    "            timestamp:      区块创建时间\n",
    "            hash:           区块哈希值\n",
    "    \"\"\"\n",
    "    def __init__(self, data, prev_hash):\n",
    "        # 将传入的父哈希值和数据保存到类变量中\n",
    "        self.previous_hash = prev_hash    \n",
    "        self.data = data\n",
    "        # 获取当前时间\n",
    "        self.timestamp = datetime.now().strftime(\"%Y-%m-%d %H:%M:%S\")\n",
    "\n",
    "        # 计算区块的哈希值\n",
    "        message = hashlib.sha256()\n",
    "        message.update(str(self.previous_hash).encode('utf-8'))\n",
    "        message.update(str(self.data).encode('utf-8'))\n",
    "        message.update(str(self.timestamp).encode('utf-8'))\n",
    "        self.hash = message.hexdigest()"
   ]
  },
  {
   "cell_type": "code",
   "execution_count": 2,
   "metadata": {},
   "outputs": [],
   "source": [
    "class BlockChain:\n",
    "    \"\"\"\n",
    "        区块链结构体\n",
    "            blocks:        包含的区块列表\n",
    "    \"\"\"\n",
    "    def __init__(self):\n",
    "        self.blocks = []\n",
    "\n",
    "    def add_block(self, block):\n",
    "        \"\"\"\n",
    "        添加区块\n",
    "        \"\"\"\n",
    "        self.blocks.append(block)"
   ]
  },
  {
   "cell_type": "code",
   "execution_count": 3,
   "metadata": {},
   "outputs": [],
   "source": [
    "# 生成创世区块\n",
    "# 创世区块是第一个区块,无父区块哈希\n",
    "genesis_block = Block(data=\"创世区块\", prev_hash=\"\")\n",
    "\n",
    "# 再新建两个区块, prev_hash分别为前一个哈希值\n",
    "new_block = Block(data=\"张三转给李四1个比特币\", prev_hash=genesis_block.hash)\n",
    "new_block2 = Block(data=\"张三转给王五2个比特币\", prev_hash=new_block.hash)"
   ]
  },
  {
   "cell_type": "code",
   "execution_count": 4,
   "metadata": {
    "scrolled": true
   },
   "outputs": [
    {
     "name": "stdout",
     "output_type": "stream",
     "text": [
      "区块链包含区块个数: 3\n",
      "\n",
      "上一个区块哈希：\n",
      "区块内容：创世区块\n",
      "区块哈希：ac0186d0b9d52d3b6fa317490bc918c0bb7a2baaa4e3ff58c53d59af1e260851\n",
      "\n",
      "\n",
      "上一个区块哈希：ac0186d0b9d52d3b6fa317490bc918c0bb7a2baaa4e3ff58c53d59af1e260851\n",
      "区块内容：张三转给李四1个比特币\n",
      "区块哈希：de3eb334dd3eed01fa25d3b4995945e861498732e1ecd3b0ffa5a6d2876aa53c\n",
      "\n",
      "\n",
      "上一个区块哈希：de3eb334dd3eed01fa25d3b4995945e861498732e1ecd3b0ffa5a6d2876aa53c\n",
      "区块内容：张三转给王五2个比特币\n",
      "区块哈希：2fc96350ab3d699550b582a265d0767704e221e215a55cb69c10fcc342b42387\n",
      "\n",
      "\n"
     ]
    }
   ],
   "source": [
    "# 新建一个区块链\n",
    "blockchain = BlockChain()\n",
    "\n",
    "# 将上面的几个区块添加到区块链中\n",
    "blockchain.add_block(genesis_block)\n",
    "blockchain.add_block(new_block)\n",
    "blockchain.add_block(new_block2)\n",
    "# 打印区块链\n",
    "\n",
    "print(\"区块链包含区块个数: %d\\n\" % len(blockchain.blocks))\n",
    "\n",
    "for block in blockchain.blocks:\n",
    "    print(\"上一个区块哈希：%s\" % block.previous_hash)\n",
    "    print(\"区块内容：%s\" % block.data)\n",
    "    print(\"区块哈希：%s\" % block.hash)\n",
    "    print(\"\\n\") #"
   ]
  },
  {
   "cell_type": "code",
   "execution_count": null,
   "metadata": {},
   "outputs": [],
   "source": []
  }
 ],
 "metadata": {
  "kernelspec": {
   "display_name": "Python 3",
   "language": "python",
   "name": "python3"
  },
  "language_info": {
   "codemirror_mode": {
    "name": "ipython",
    "version": 3
   },
   "file_extension": ".py",
   "mimetype": "text/x-python",
   "name": "python",
   "nbconvert_exporter": "python",
   "pygments_lexer": "ipython3",
   "version": "3.7.0"
  }
 },
 "nbformat": 4,
 "nbformat_minor": 4
}
