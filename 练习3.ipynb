{
 "cells": [
  {
   "cell_type": "code",
   "execution_count": 2,
   "metadata": {},
   "outputs": [
    {
     "name": "stdout",
     "output_type": "stream",
     "text": [
      "5050\n"
     ]
    }
   ],
   "source": [
    "sum = 0\n",
    "for i in range(1,101):\n",
    "    sum=sum+i\n",
    "print(sum)"
   ]
  },
  {
   "cell_type": "code",
   "execution_count": 4,
   "metadata": {},
   "outputs": [
    {
     "name": "stdout",
     "output_type": "stream",
     "text": [
      "2.937774848474907\n"
     ]
    }
   ],
   "source": [
    "sum=0\n",
    "for i in range(100):\n",
    "    if(i%2)==1:\n",
    "        sum=sum+1/i\n",
    "print(sum)"
   ]
  },
  {
   "cell_type": "code",
   "execution_count": 3,
   "metadata": {},
   "outputs": [
    {
     "name": "stdout",
     "output_type": "stream",
     "text": [
      "请输入一个字符串:QDwsK12\n",
      "您输入的字符串统计结果是: 7\n",
      "有3个大写字母\n",
      "有2个小写字母\n",
      "有2个其他字母\n"
     ]
    }
   ],
   "source": [
    "s = input(\"请输入一个字符串:\")\n",
    "a = 0\n",
    "b = 0\n",
    "c = 0\n",
    "for i in s:\n",
    "    if 'A' <= i <= 'Z':\n",
    "        a=a+1\n",
    "    elif 'a' <= i <= 'z':\n",
    "        b=b+1\n",
    "    else:\n",
    "        c=c+1\n",
    "print(\"您输入的字符串统计结果是:\",len(str(s)))\n",
    "print(f\"有{a}个大写字母\")\n",
    "print(f\"有{b}个小写字母\")\n",
    "print(f\"有{c}个其他字母\")"
   ]
  },
  {
   "cell_type": "code",
   "execution_count": 5,
   "metadata": {},
   "outputs": [
    {
     "name": "stdout",
     "output_type": "stream",
     "text": [
      "32.66026079864164\n"
     ]
    }
   ],
   "source": [
    "sum = 0\n",
    "a=2\n",
    "b=1\n",
    "for i in range(20):\n",
    "    sum = sum + a/b\n",
    "    a = a + b\n",
    "    b = a - b\n",
    "print(sum)"
   ]
  },
  {
   "cell_type": "code",
   "execution_count": null,
   "metadata": {},
   "outputs": [
    {
     "name": "stdout",
     "output_type": "stream",
     "text": [
      "输入成绩:667\n"
     ]
    }
   ],
   "source": [
    "total = 0\n",
    "q = 1\n",
    "score = input(\"输入成绩:\")\n",
    "while score != \"stop\":\n",
    "    q += 1\n",
    "    total = total + int(score)\n",
    "avg = total / q\n",
    "print(avg)"
   ]
  },
  {
   "cell_type": "code",
   "execution_count": 2,
   "metadata": {},
   "outputs": [
    {
     "name": "stdout",
     "output_type": "stream",
     "text": [
      "第1个成绩: 99\n",
      "第2个成绩: 99\n",
      "第3个成绩: 99\n",
      "第4个成绩: 99\n",
      "第5个成绩: 99\n",
      "平均成绩: 99.0\n"
     ]
    }
   ],
   "source": [
    "s=0\n",
    "i=1\n",
    "while i<6:\n",
    "    m=input(\"第\"+str(i)+\"个成绩: \")\n",
    "    m=float(m)\n",
    "    if m<0 or m>100:\n",
    "        print(\"数据不合理，请重新输入:\")\n",
    "    s=s+m\n",
    "    i=i+1\n",
    "print(\"平均成绩:\",s/(i-1))"
   ]
  },
  {
   "cell_type": "code",
   "execution_count": null,
   "metadata": {},
   "outputs": [],
   "source": []
  }
 ],
 "metadata": {
  "kernelspec": {
   "display_name": "Python 3",
   "language": "python",
   "name": "python3"
  },
  "language_info": {
   "codemirror_mode": {
    "name": "ipython",
    "version": 3
   },
   "file_extension": ".py",
   "mimetype": "text/x-python",
   "name": "python",
   "nbconvert_exporter": "python",
   "pygments_lexer": "ipython3",
   "version": "3.7.0"
  }
 },
 "nbformat": 4,
 "nbformat_minor": 2
}
