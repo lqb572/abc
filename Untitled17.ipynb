{
 "cells": [
  {
   "cell_type": "code",
   "execution_count": 15,
   "metadata": {},
   "outputs": [
    {
     "name": "stderr",
     "output_type": "stream",
     "text": [
      "C:\\Users\\hp\\AppData\\Local\\Continuum\\anaconda3\\lib\\site-packages\\ipykernel_launcher.py:13: DeprecationWarning: use options instead of chrome_options\n",
      "  del sys.path[0]\n"
     ]
    }
   ],
   "source": [
    "from selenium.webdriver.common.keys import Keys\n",
    "import subprocess\n",
    "import codecs\n",
    "from selenium import webdriver\n",
    "import re\n",
    "import time\n",
    "from selenium.webdriver.chrome.options import Options\n",
    "command = r\"C:\\Users\\hp\\chrome.lnk --remote-debugging-port=9222 --user-data-dir=C:\\chrome_profile1\"\n",
    "retcode = subprocess.Popen(command,shell=True)\n",
    "time.sleep(1)\n",
    "chrome_options = Options()\n",
    "chrome_options.add_experimental_option(\"debuggerAddress\", \"127.0.0.1:9222\")\n",
    "d = webdriver.Chrome(chrome_options=chrome_options)   \n",
    "d.get(\"https://item.jd.com/34640640658.html\")"
   ]
  },
  {
   "cell_type": "code",
   "execution_count": 10,
   "metadata": {},
   "outputs": [],
   "source": [
    "d.find_element_by_xpath(r'//*[@id=\"detail\"]/div[1]/ul/li[5]').click()\n",
    "reobj = re.compile(r'<p class=\"comment-con\">([\\s\\S]*?)</p>')"
   ]
  },
  {
   "cell_type": "code",
   "execution_count": 17,
   "metadata": {},
   "outputs": [],
   "source": [
    "comment = []\n",
    "count = 1\n",
    "def next_page(driver):\n",
    "    # driver.find_element_by_link_text(u\"下一页\").click()\n",
    "    parent = driver.find_element_by_css_selector('.ui-page')\n",
    "    try:\n",
    "        parent.find_element_by_link_text(u\"下一页\").click()\n",
    "    except:\n",
    "        time.sleep(2)\n",
    "        page_num = parent.find_element_by_link_text(u\"下一页\").get_attribute('rel') \n",
    "        # ActionChains(driver).send_keys(Keys.SPACE).perform()\n",
    "        # time.sleep(2)\n",
    "        parent.find_element_by_link_text(page_num).click()\n",
    "        # driver.find_element_by_link_text(u\"下一页\").click()"
   ]
  },
  {
   "cell_type": "code",
   "execution_count": 18,
   "metadata": {},
   "outputs": [],
   "source": [
    "while True:\n",
    "    html = d.page_source\n",
    "    result = reobj.finditer(html)\n",
    "    for i in result:\n",
    "        comment.append(i.group(1))\n",
    "        print(str(count) + \".\\t\" + i.group(1))\n",
    "        count += 1    \n",
    "    try:\n",
    "        next_page(driver)\n",
    "    except:\n",
    "        try:\n",
    "            next_page(driver)\n",
    "        except:\n",
    "            break\n"
   ]
  },
  {
   "cell_type": "code",
   "execution_count": 13,
   "metadata": {},
   "outputs": [],
   "source": []
  },
  {
   "cell_type": "code",
   "execution_count": 35,
   "metadata": {},
   "outputs": [],
   "source": []
  },
  {
   "cell_type": "code",
   "execution_count": null,
   "metadata": {},
   "outputs": [],
   "source": []
  }
 ],
 "metadata": {
  "kernelspec": {
   "display_name": "Python 3",
   "language": "python",
   "name": "python3"
  },
  "language_info": {
   "codemirror_mode": {
    "name": "ipython",
    "version": 3
   },
   "file_extension": ".py",
   "mimetype": "text/x-python",
   "name": "python",
   "nbconvert_exporter": "python",
   "pygments_lexer": "ipython3",
   "version": "3.7.0"
  }
 },
 "nbformat": 4,
 "nbformat_minor": 2
}
