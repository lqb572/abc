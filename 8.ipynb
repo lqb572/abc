{
 "cells": [
  {
   "cell_type": "code",
   "execution_count": 1,
   "metadata": {},
   "outputs": [
    {
     "name": "stdout",
     "output_type": "stream",
     "text": [
      "https://movie.douban.com/subject/27060077/?tag=%E7%83%AD%E9%97%A8&from=gaia\n",
      "1\n",
      "==========\n",
      "\n",
      "            \n",
      "                <span class=\"short\">Mahershala說片子里某個根本不會被人注意到的佈景里的某塊石頭或許就是V撿的。他說V在拍攝的時候，一直留心撿很漂亮的石頭，撿到了就拿給導演說：看，把這塊石頭放在背景里會有多好看\n",
      "說到電影里的部分，他可能增肥了有二三十斤，從來沒見過他有那麼大的肚腩（現在似乎已經減回來了）。今天在看V表演時，大部分的時間，我忘了他是Viggo，他就是那樣一個沒文化又油滑、滿嘴跑火車的司機。\n",
      "僅僅偶爾偶爾有幾個他...</span>\n",
      "                <span class=\"hide-item full\">Mahershala說片子里某個根本不會被人注意到的佈景里的某塊石頭或許就是V撿的。他說V在拍攝的時候，一直留心撿很漂亮的石頭，撿到了就拿給導演說：看，把這塊石頭放在背景里會有多好看\n",
      "說到電影里的部分，他可能增肥了有二三十斤，從來沒見過他有那麼大的肚腩（現在似乎已經減回來了）。今天在看V表演時，大部分的時間，我忘了他是Viggo，他就是那樣一個沒文化又油滑、滿嘴跑火車的司機。\n",
      "僅僅偶爾偶爾有幾個他不說話、只抽煙的鏡頭，鼻孔一噴白霧，就那麼一瞥，卻還像是十幾年前、《東方的承諾》里那個冷酷無情的殺手。\n",
      "今天導演說He’s a great person before he’s a great actor. 這麼多年了，還是一直一直都沒變啊。</span>\n",
      "                <span class=\"expand\">(<a href=\"javascript:;\">展开</a>)</span>\n",
      "        \n",
      "2\n",
      "==========\n",
      "\n",
      "            \n",
      "                <span class=\"short\">你知道这个故事要讲什么，你也知道这段旅程会经历什么。你明白这其中并不会触及什么过于深刻的东西，却也展示了许多直白，你明白身份是每个人无法避开的东西，也知道相互理解是多么难得。你会自然地喜欢这些描写得并不太像真实人物的角色，你会跟着那些好笑或其实并不太好笑的片段笑出声来。或许也只是将发笑作为第一反应来化解或掩藏其他的感受。你知道故事和片名说的绿皮书关系其实不算大，你也大概没有想到自己会喜欢这部影片。</span>\n",
      "        \n",
      "3\n",
      "==========\n",
      "\n",
      "            \n",
      "                <span class=\"short\">“世界上孤独的人都害怕迈出第一步” 可爱精致的友情小品，美国版《触不可及》。“谢谢你把丈夫分享给我”</span>\n",
      "        \n",
      "4\n",
      "==========\n",
      "\n",
      "            \n",
      "                <span class=\"short\">赶走偏见不是靠鸣枪，赢得尊重不是靠拳头。为了如厕宁可折返，为了用餐甘愿罢演，受到霸凌不视为侮辱而视为考验，受到恩惠不视为荣耀而视为耻辱。南方劳作的黑奴看到路边的他衣冠楚楚，如同一个预言。一家上流餐厅，一间宽敞厕所，一个高档试衣间都没能容纳下的东西，却装进了一方绿色车厢，勇敢上路。</span>\n",
      "        \n",
      "5\n",
      "==========\n",
      "\n",
      "            \n",
      "                <span class=\"short\">四平八稳的片子，精致的套路，一路都是能想到的通俗剧情，基本没有什么大的起伏，主要看演员，明知道是屡试不爽的美式套路，你还会微微感动，也许这就是好莱坞厉害的地方之一。</span>\n",
      "        \n",
      "翻页完成\n"
     ]
    }
   ],
   "source": [
    "from selenium import webdriver\n",
    "import re\n",
    "import time\n",
    "driver=webdriver.Chrome()\n",
    "# driver=webdriver.Firefox()\n",
    "list = []\n",
    "\n",
    "url = 'https://movie.douban.com/subject/27060077/?tag=%E7%83%AD%E9%97%A8&from=gaia'\n",
    "print(url)\n",
    "driver.get(url)\n",
    "time.sleep(5)\n",
    "html = driver.page_source\n",
    "reobj = re.compile(r'<div class=\"comment-item\" data-cid=\"\\d*?\">[\\s\\S]*?</div>')\n",
    "count = 0\n",
    "for match in reobj.finditer(html):\n",
    "#     print(\"*\"*20)\n",
    "    count+=1\n",
    "    print(count)\n",
    "    div_comment_item = match.group(0)\n",
    "#     print(div_comment_item)\n",
    "#     print(count)\n",
    "#     match = re.search(r' <p class=\"\">([\\s\\S]*?)<span class=\"expand\">', div_comment_item)\n",
    "    reobj = re.compile(r' <p class=\"\">([\\s\\S]*?)</p>')\n",
    "    match = reobj.search(div_comment_item)\n",
    "    if match:\n",
    "        # match start: match.start()\n",
    "        # match end (exclusive): match.end()\n",
    "        print(\"=\"*10)\n",
    "        print(match.group(1))\n",
    "try:\n",
    "    for i in range(10):\n",
    "        driver.find_element_by_xpath('//*[@id=\"paginator\"]/a').click()\n",
    "        print(\"这是第\",i)\n",
    "        time.sleep(3)\n",
    "except:\n",
    "    print(\"翻页完成\")\n",
    "\n",
    "\n"
   ]
  },
  {
   "cell_type": "code",
   "execution_count": null,
   "metadata": {},
   "outputs": [],
   "source": []
  },
  {
   "cell_type": "code",
   "execution_count": null,
   "metadata": {},
   "outputs": [],
   "source": []
  },
  {
   "cell_type": "code",
   "execution_count": null,
   "metadata": {},
   "outputs": [],
   "source": []
  }
 ],
 "metadata": {
  "kernelspec": {
   "display_name": "Python 3",
   "language": "python",
   "name": "python3"
  },
  "language_info": {
   "codemirror_mode": {
    "name": "ipython",
    "version": 3
   },
   "file_extension": ".py",
   "mimetype": "text/x-python",
   "name": "python",
   "nbconvert_exporter": "python",
   "pygments_lexer": "ipython3",
   "version": "3.7.0"
  }
 },
 "nbformat": 4,
 "nbformat_minor": 2
}
