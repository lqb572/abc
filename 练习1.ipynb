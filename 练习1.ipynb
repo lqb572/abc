{
 "cells": [
  {
   "cell_type": "code",
   "execution_count": 18,
   "metadata": {},
   "outputs": [
    {
     "name": "stdout",
     "output_type": "stream",
     "text": [
      "6000\n"
     ]
    }
   ],
   "source": [
    "length=100\n",
    "width=60\n",
    "area=length*width\n",
    "print(area)"
   ]
  },
  {
   "cell_type": "code",
   "execution_count": 61,
   "metadata": {},
   "outputs": [
    {
     "name": "stdout",
     "output_type": "stream",
     "text": [
      "Time:23:48:54\n"
     ]
    }
   ],
   "source": [
    "s=666\n",
    "b=86400\n",
    "c=(b-s)//3600\n",
    "d=((b-s)-c*3600)//60\n",
    "e=((b-s)-c*3600-d*60)\n",
    "print(\"Time:%02d:%02d:%02d\"%(c,d,e))"
   ]
  },
  {
   "cell_type": "code",
   "execution_count": 27,
   "metadata": {},
   "outputs": [
    {
     "name": "stdout",
     "output_type": "stream",
     "text": [
      "False\n",
      "True\n",
      "True\n",
      "0\n",
      "True\n",
      "True\n",
      "True\n",
      "True\n",
      "True\n"
     ]
    }
   ],
   "source": [
    "a=1\n",
    "b=2\n",
    "c=3\n",
    "d=0\n",
    "print(a>b and b>c or a+b<c)\n",
    "print(a-b<c or b>c and not c)\n",
    "print(not d or b>c+a or a)\n",
    "print(d and b and c>d and a*b>c)\n",
    "print(not (a>b and c>d))\n",
    "print(a*b>c or b+c>d and not d)\n",
    "print(c+d<=b+d and d<c or 2*b>c)\n",
    "print(d<b or c>a+b+d and b<c+a)\n",
    "print(d<b or c>a+b+d and b<c+a)"
   ]
  },
  {
   "cell_type": "code",
   "execution_count": null,
   "metadata": {},
   "outputs": [],
   "source": [
    "x>=-5 and x<=0"
   ]
  },
  {
   "cell_type": "code",
   "execution_count": 62,
   "metadata": {},
   "outputs": [
    {
     "name": "stdout",
     "output_type": "stream",
     "text": [
      "False\n",
      "False\n",
      "1\n",
      "False\n",
      "False\n",
      "1\n"
     ]
    }
   ],
   "source": [
    "a=1\n",
    "b=2\n",
    "c=3\n",
    "x=4\n",
    "y=5\n",
    "print(a+b>c and b==c)\n",
    "print(not (a<b)and (b !=c) or (x+y<=3))\n",
    "print(a+(b>x+y) and c-a and y-x)\n",
    "print(not(x==a) and (y==b) and 0)\n",
    "print(not (a+b)+c-1 and b+c/2)\n",
    "print(a or 1+'a' and b and 'c')"
   ]
  },
  {
   "cell_type": "code",
   "execution_count": null,
   "metadata": {},
   "outputs": [],
   "source": []
  },
  {
   "cell_type": "code",
   "execution_count": null,
   "metadata": {},
   "outputs": [],
   "source": []
  },
  {
   "cell_type": "code",
   "execution_count": null,
   "metadata": {},
   "outputs": [],
   "source": []
  },
  {
   "cell_type": "code",
   "execution_count": null,
   "metadata": {},
   "outputs": [],
   "source": []
  },
  {
   "cell_type": "code",
   "execution_count": null,
   "metadata": {},
   "outputs": [],
   "source": []
  },
  {
   "cell_type": "code",
   "execution_count": null,
   "metadata": {},
   "outputs": [],
   "source": []
  },
  {
   "cell_type": "code",
   "execution_count": null,
   "metadata": {},
   "outputs": [],
   "source": []
  }
 ],
 "metadata": {
  "kernelspec": {
   "display_name": "Python 3",
   "language": "python",
   "name": "python3"
  },
  "language_info": {
   "codemirror_mode": {
    "name": "ipython",
    "version": 3
   },
   "file_extension": ".py",
   "mimetype": "text/x-python",
   "name": "python",
   "nbconvert_exporter": "python",
   "pygments_lexer": "ipython3",
   "version": "3.7.0"
  }
 },
 "nbformat": 4,
 "nbformat_minor": 2
}
