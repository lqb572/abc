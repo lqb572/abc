{
 "cells": [
  {
   "cell_type": "code",
   "execution_count": 1,
   "metadata": {},
   "outputs": [
    {
     "name": "stdout",
     "output_type": "stream",
     "text": [
      "数学成绩:100\n",
      "语文成绩:99\n",
      "英文成绩：95\n",
      "总分： 294.0 平均： 98.0\n"
     ]
    }
   ],
   "source": [
    "math = input(\"数学成绩:\")\n",
    "chinese = input(\"语文成绩:\")\n",
    "english = input(\"英文成绩：\")\n",
    "math = float(math)\n",
    "chinese = float(chinese)\n",
    "english = float (english)\n",
    "sum = math + chinese + english\n",
    "print(\"总分：\",sum,\"平均：\",sum/3)"
   ]
  },
  {
   "cell_type": "code",
   "execution_count": null,
   "metadata": {},
   "outputs": [],
   "source": []
  }
 ],
 "metadata": {
  "kernelspec": {
   "display_name": "Python 3",
   "language": "python",
   "name": "python3"
  },
  "language_info": {
   "codemirror_mode": {
    "name": "ipython",
    "version": 3
   },
   "file_extension": ".py",
   "mimetype": "text/x-python",
   "name": "python",
   "nbconvert_exporter": "python",
   "pygments_lexer": "ipython3",
   "version": "3.7.0"
  }
 },
 "nbformat": 4,
 "nbformat_minor": 2
}
