{
 "cells": [
  {
   "cell_type": "code",
   "execution_count": 6,
   "metadata": {},
   "outputs": [],
   "source": [
    "import subprocess   #导入subprocess包\n",
    "from selenium import webdriver    #从selenium导入webdriver\n",
    "import re    #导入正则表达式\n",
    "import time    #导入时间函数\n",
    "from selenium.webdriver.chrome.options import Options    #导入Chrome选项\n",
    "from selenium.webdriver.common.action_chains import ActionChains    #导入鼠标操作的包\n",
    "from selenium.webdriver.common.keys import Keys    #引入键盘操作的包"
   ]
  },
  {
   "cell_type": "code",
   "execution_count": 7,
   "metadata": {},
   "outputs": [],
   "source": [
    "command = r\"C:\\Users\\Administrator\\Desktop\\chrome.lnk --remote-debugging-port=9222 --user-data-dir=C:\\chrome_profile1\""
   ]
  },
  {
   "cell_type": "code",
   "execution_count": 8,
   "metadata": {},
   "outputs": [],
   "source": [
    "retcode = subprocess.Popen(command,shell=True)    #启动Chrome浏览器\n",
    "time.sleep(3)    #等待3秒\n",
    "chrome_options = Options()    #配置 chrome 启动时属性的类\n",
    "chrome_options.add_experimental_option(\"debuggerAddress\", \"127.0.0.1:9222\")    #使用selenium控制已打开的浏览器"
   ]
  },
  {
   "cell_type": "code",
   "execution_count": null,
   "metadata": {},
   "outputs": [],
   "source": [
    "driver = webdriver.Chrome(options=chrome_options)    #创建webdriver的启动选项"
   ]
  },
  {
   "cell_type": "code",
   "execution_count": 6,
   "metadata": {},
   "outputs": [],
   "source": [
    "reobj = re.compile(r'target=\"_blank\" seed=\"consumeTitle-linkT[\\d\\D]*?\" smartracker=\"on\">([\\d\\D]*?)</a>')"
   ]
  },
  {
   "cell_type": "code",
   "execution_count": 7,
   "metadata": {},
   "outputs": [],
   "source": [
    "comment = []     #建立一个comment\n",
    "count = 1"
   ]
  },
  {
   "cell_type": "code",
   "execution_count": 8,
   "metadata": {},
   "outputs": [
    {
     "name": "stdout",
     "output_type": "stream",
     "text": [
      "1.\t转账收款到余额宝\n",
      "2.\t转账\n",
      "3.\t商品\n",
      "4.\t商品\n",
      "5.\t余额宝-2019.06.18-收益发放\n",
      "6.\t商品\n",
      "7.\t友宝-康师傅茉莉蜜茶500ML\n",
      "8.\t老北京炸酱面(精品经贸店)外卖订单\n",
      "9.\t余额宝-2019.06.17-收益发放\n",
      "10.\t零食商品\n"
     ]
    }
   ],
   "source": [
    "while True:\n",
    "    html = driver.page_source     #获取源代码\n",
    "    result = reobj.finditer(html)     #用一次正则查找源码中的信息，将其保存到result中\n",
    "    if not result:\n",
    "        print(\"找不到评论\")    #如果没有评论，输出“找不到评论”\n",
    "    for i in result:\n",
    "        comment.append(i.group(1))       #如果匹配成功，将i加入comment中\n",
    "        print(str(count) + \".\\t\" + i.group(1))\n",
    "        count += 1\n",
    "    try:         #尝试翻页两次，如果不成功，跳出循环，程序结束\n",
    "        next_page(driver)\n",
    "    except:\n",
    "        try:\n",
    "            next_page(driver)\n",
    "        except:\n",
    "            break"
   ]
  },
  {
   "cell_type": "code",
   "execution_count": null,
   "metadata": {},
   "outputs": [],
   "source": [
    "driver.find_element_by_xpath(\"//div[@id='main']/div[2]/div/div[2]/div[2]/div/a/span\").click()"
   ]
  },
  {
   "cell_type": "code",
   "execution_count": null,
   "metadata": {},
   "outputs": [],
   "source": []
  },
  {
   "cell_type": "code",
   "execution_count": null,
   "metadata": {},
   "outputs": [],
   "source": []
  },
  {
   "cell_type": "code",
   "execution_count": null,
   "metadata": {},
   "outputs": [],
   "source": []
  }
 ],
 "metadata": {
  "kernelspec": {
   "display_name": "Python 3",
   "language": "python",
   "name": "python3"
  },
  "language_info": {
   "codemirror_mode": {
    "name": "ipython",
    "version": 3
   },
   "file_extension": ".py",
   "mimetype": "text/x-python",
   "name": "python",
   "nbconvert_exporter": "python",
   "pygments_lexer": "ipython3",
   "version": "3.7.0"
  }
 },
 "nbformat": 4,
 "nbformat_minor": 2
}
